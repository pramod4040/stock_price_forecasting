{
  "nbformat": 4,
  "nbformat_minor": 0,
  "metadata": {
    "colab": {
      "name": "stock_price.ipynb",
      "provenance": [],
      "collapsed_sections": [],
      "mount_file_id": "1MrXA9l_xkTCHrZv7SLxfHHZwN7t72uh_",
      "authorship_tag": "ABX9TyM89l0sJCpZ/jPWIUN5V75a",
      "include_colab_link": true
    },
    "kernelspec": {
      "name": "python3",
      "display_name": "Python 3"
    }
  },
  "cells": [
    {
      "cell_type": "markdown",
      "metadata": {
        "id": "view-in-github",
        "colab_type": "text"
      },
      "source": [
        "<a href=\"https://colab.research.google.com/github/pramod4040/stock_price_forecasting/blob/master/stock_price.ipynb\" target=\"_parent\"><img src=\"https://colab.research.google.com/assets/colab-badge.svg\" alt=\"Open In Colab\"/></a>"
      ]
    },
    {
      "cell_type": "code",
      "metadata": {
        "id": "RSzfyLB0Amu2",
        "colab_type": "code",
        "colab": {}
      },
      "source": [
        "import pandas as pd\n",
        "from matplotlib import pyplot\n",
        "from pandas.plotting import lag_plot"
      ],
      "execution_count": 2,
      "outputs": []
    },
    {
      "cell_type": "code",
      "metadata": {
        "id": "PT_bnIeqBF80",
        "colab_type": "code",
        "colab": {}
      },
      "source": [
        "df = pd.read_csv(\"/content/drive/My Drive/Data Set/stock_price/a.us.txt\", delimiter=\",\")\n",
        "df.head()\n",
        "\n",
        "#convert date in to timestamp datatype from object\n",
        "df['Date'] = pd.to_datetime(df['Date'])"
      ],
      "execution_count": 3,
      "outputs": []
    },
    {
      "cell_type": "code",
      "metadata": {
        "id": "seMEyfxCBXsd",
        "colab_type": "code",
        "colab": {}
      },
      "source": [
        "date_and_open = df.loc[:,['Date', 'Open']]\n"
      ],
      "execution_count": 4,
      "outputs": []
    },
    {
      "cell_type": "code",
      "metadata": {
        "id": "L1pQ3GRzGWEi",
        "colab_type": "code",
        "colab": {
          "base_uri": "https://localhost:8080/",
          "height": 269
        },
        "outputId": "103f66c1-0877-4afd-8196-a423abae84d8"
      },
      "source": [
        "date_and_open.plot('Date', 'Open')\n",
        "pyplot.show()"
      ],
      "execution_count": 5,
      "outputs": [
        {
          "output_type": "display_data",
          "data": {
            "image/png": "[encoded data removed]",
            "text/plain": [
              "<Figure size 432x288 with 1 Axes>"
            ]
          },
          "metadata": {
            "tags": [],
            "needs_background": "light"
          }
        }
      ]
    },
    {
      "cell_type": "code",
      "metadata": {
        "id": "PKS_R19HJE0m",
        "colab_type": "code",
        "colab": {}
      },
      "source": [
        "date_and_open.index = pd.to_datetime(date_and_open['Date'])"
      ],
      "execution_count": 9,
      "outputs": []
    },
    {
      "cell_type": "code",
      "metadata": {
        "id": "-dJecJMtOVec",
        "colab_type": "code",
        "colab": {
          "base_uri": "https://localhost:8080/",
          "height": 290
        },
        "outputId": "87be274a-e3ec-4a2d-c658-a90d866379cf"
      },
      "source": [
        "date_and_open.head"
      ],
      "execution_count": 10,
      "outputs": [
        {
          "output_type": "execute_result",
          "data": {
            "text/plain": [
              "<bound method NDFrame.head of                  Date    Open\n",
              "Date                         \n",
              "1999-11-18 1999-11-18  30.713\n",
              "1999-11-19 1999-11-19  28.986\n",
              "1999-11-22 1999-11-22  27.886\n",
              "1999-11-23 1999-11-23  28.688\n",
              "1999-11-24 1999-11-24  27.083\n",
              "...               ...     ...\n",
              "2017-11-06 2017-11-06  68.220\n",
              "2017-11-07 2017-11-07  68.320\n",
              "2017-11-08 2017-11-08  68.100\n",
              "2017-11-09 2017-11-09  67.920\n",
              "2017-11-10 2017-11-10  67.350\n",
              "\n",
              "[4521 rows x 2 columns]>"
            ]
          },
          "metadata": {
            "tags": []
          },
          "execution_count": 10
        }
      ]
    },
    {
      "cell_type": "code",
      "metadata": {
        "id": "XNbrUPxaBKlH",
        "colab_type": "code",
        "colab": {}
      },
      "source": [
        "date_and_open = date_and_open.drop(['Date'], axis=1)"
      ],
      "execution_count": 14,
      "outputs": []
    },
    {
      "cell_type": "code",
      "metadata": {
        "id": "dBkV1kvsBTQj",
        "colab_type": "code",
        "colab": {
          "base_uri": "https://localhost:8080/",
          "height": 279
        },
        "outputId": "594f0b65-24dc-49d1-ada0-f023bccfc16e"
      },
      "source": [
        "lag_plot(date_and_open)\n",
        "pyplot.show()"
      ],
      "execution_count": 17,
      "outputs": [
        {
          "output_type": "display_data",
          "data": {
            "image/png": "[encoded data removed]",
            "text/plain": [
              "<Figure size 432x288 with 1 Axes>"
            ]
          },
          "metadata": {
            "tags": [],
            "needs_background": "light"
          }
        }
      ]
    },
    {
      "cell_type": "code",
      "metadata": {
        "id": "UuSG_OBUBwqq",
        "colab_type": "code",
        "colab": {}
      },
      "source": [
        ""
      ],
      "execution_count": null,
      "outputs": []
    }
  ]
}